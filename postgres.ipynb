{
 "cells": [
  {
   "cell_type": "code",
   "execution_count": 1,
   "id": "aba1bf94-912b-4bce-b6c3-f453af63ed97",
   "metadata": {},
   "outputs": [
    {
     "name": "stdout",
     "output_type": "stream",
     "text": [
      "✅ Loaded data\\begin_inventory.csv into table begin_inventory\n",
      "✅ Loaded data\\end_inventory.csv into table end_inventory\n",
      "✅ Loaded data\\purchases.csv into table purchases\n",
      "✅ Loaded data\\purchase_prices.csv into table purchase_prices\n",
      "✅ Loaded data\\sales.csv into table sales\n",
      "✅ Loaded data\\vendor_invoice.csv into table vendor_invoice\n",
      "\n",
      "🚀 Ingestion Complete in 3.38 minutes\n"
     ]
    }
   ],
   "source": [
    "import os\n",
    "import psycopg2\n",
    "import time\n",
    "\n",
    "# Connection details\n",
    "conn = psycopg2.connect(\n",
    "    dbname=\"postgres\",\n",
    "    user=\"postgres\",\n",
    "    password=\"Aditi@123\",   # make sure @ is allowed here (no encoding needed in psycopg2)\n",
    "    host=\"localhost\",\n",
    "    port=\"5432\"\n",
    ")\n",
    "\n",
    "cur = conn.cursor()\n",
    "\n",
    "def ingest_csv(file_path, table_name):\n",
    "    \"\"\"Ingest one CSV file into PostgreSQL using COPY (fastest way).\"\"\"\n",
    "    with open(file_path, \"r\", encoding=\"utf-8\") as f:\n",
    "        cur.copy_expert(f\"\"\"\n",
    "            COPY {table_name}\n",
    "            FROM STDIN\n",
    "            WITH CSV HEADER\n",
    "        \"\"\", f)\n",
    "    conn.commit()\n",
    "    print(f\"✅ Loaded {file_path} into table {table_name}\")\n",
    "\n",
    "def load_raw_data():\n",
    "    start = time.time()\n",
    "    for file in os.listdir(\"data\"):\n",
    "        if file.endswith(\".csv\"):\n",
    "            table_name = file[:-4].lower()   # remove .csv and make lowercase\n",
    "            file_path = os.path.join(\"data\", file)\n",
    "            ingest_csv(file_path, table_name)\n",
    "    end = time.time()\n",
    "    total_time = (end - start) / 60\n",
    "    print(f\"\\n🚀 Ingestion Complete in {total_time:.2f} minutes\")\n",
    "\n",
    "if __name__ == \"__main__\":\n",
    "    load_raw_data()\n",
    "    cur.close()\n",
    "    conn.close()\n"
   ]
  }
 ],
 "metadata": {
  "kernelspec": {
   "display_name": "Python 3 (ipykernel)",
   "language": "python",
   "name": "python3"
  },
  "language_info": {
   "codemirror_mode": {
    "name": "ipython",
    "version": 3
   },
   "file_extension": ".py",
   "mimetype": "text/x-python",
   "name": "python",
   "nbconvert_exporter": "python",
   "pygments_lexer": "ipython3",
   "version": "3.12.6"
  }
 },
 "nbformat": 4,
 "nbformat_minor": 5
}
